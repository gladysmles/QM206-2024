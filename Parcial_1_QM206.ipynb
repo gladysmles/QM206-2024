{
  "nbformat": 4,
  "nbformat_minor": 0,
  "metadata": {
    "colab": {
      "provenance": [],
      "authorship_tag": "ABX9TyNQP98+jOi5AWRXJCEzLbuC",
      "include_colab_link": true
    },
    "kernelspec": {
      "name": "python3",
      "display_name": "Python 3"
    },
    "language_info": {
      "name": "python"
    }
  },
  "cells": [
    {
      "cell_type": "markdown",
      "metadata": {
        "id": "view-in-github",
        "colab_type": "text"
      },
      "source": [
        "<a href=\"https://colab.research.google.com/github/gladysmles/QM206-2024/blob/main/Parcial_1_QM206.ipynb\" target=\"_parent\"><img src=\"https://colab.research.google.com/assets/colab-badge.svg\" alt=\"Open In Colab\"/></a>"
      ]
    },
    {
      "cell_type": "markdown",
      "source": [
        "Parcial QM 206/2024\n",
        "Gladys Morales"
      ],
      "metadata": {
        "id": "HNqp6Nipir68"
      }
    },
    {
      "cell_type": "markdown",
      "source": [
        "1. * Se sabe que 1250 ml de solución de permanganato de potasio\n",
        "(KMnO4) contienen 250 g de la sal. Calcular el valor de la concentración molar."
      ],
      "metadata": {
        "id": "Cm-3XPsZZWox"
      }
    },
    {
      "cell_type": "code",
      "source": [
        "def concentracion_molar(masa_soluto, volumen_solucion_ml, pm_soluto):\n",
        "    volumen_solucion_l = volumen_solucion_ml / 1000\n",
        "    concentracion = masa_soluto / (pm_soluto * volumen_solucion_l)\n",
        "\n",
        "    return concentracion\n",
        "\n",
        "# Ejemplo de uso\n",
        "masa_soluto = 250  # en gramos\n",
        "volumen_solucion_ml = 1250  # en mililitros\n",
        "pm_soluto = 158  # Peso molecular del CaF2 (en g/mol)\n",
        "\n",
        "concentracion = concentracion_molar(masa_soluto, volumen_solucion_ml, pm_soluto)\n",
        "print(f\"La concentración molar de la solución es: {concentracion:.3f} mol/L\")"
      ],
      "metadata": {
        "colab": {
          "base_uri": "https://localhost:8080/"
        },
        "id": "9kon55tWZVIp",
        "outputId": "69bcac24-e301-4651-b873-9f34547aaeb6"
      },
      "execution_count": 55,
      "outputs": [
        {
          "output_type": "stream",
          "name": "stdout",
          "text": [
            "La concentración molar de la solución es: 1.266 mol/L\n"
          ]
        }
      ]
    },
    {
      "cell_type": "markdown",
      "source": [
        "2. ¿Calcular el pH de la solución de HCl 0.010 M?"
      ],
      "metadata": {
        "id": "5s9Tx0wdtEiC"
      }
    },
    {
      "cell_type": "code",
      "source": [
        "import math\n",
        "\n",
        "def calcular_pH(concentracion_H):\n",
        "    if concentracion_H <= 0:\n",
        "        raise ValueError(\"La concentración de iones H+ debe ser mayor que cero.\")\n",
        "\n",
        "    pH = -math.log10(concentracion_H)\n",
        "    return pH\n",
        "\n",
        "# Ejemplo de uso\n",
        "concentracion = 0.010  # Molaridad de H+\n",
        "pH = calcular_pH(concentracion)\n",
        "print(f\"El pH de la solución es: {pH:.2f}\")"
      ],
      "metadata": {
        "colab": {
          "base_uri": "https://localhost:8080/"
        },
        "id": "fgdcNjx_tFo8",
        "outputId": "e697c23c-8666-4f33-e881-a3c0bc5e5f3d"
      },
      "execution_count": 54,
      "outputs": [
        {
          "output_type": "stream",
          "name": "stdout",
          "text": [
            "El pH de la solución es: 2.00\n"
          ]
        }
      ]
    },
    {
      "cell_type": "markdown",
      "source": [
        "3- Problema de gas ideal.\n",
        "Se produce cierta reacción, produciendo un óxido de nitrógeno como gas. El gas tiene una masa de 1.211g y ocupa un volumen de 677mL. La temperatura en el laboratorio es 23°C y la presión del aire es 0.987atm. Calcular la masa molar del gas y deducir su fórmula. Supongamos que el gas es ideal."
      ],
      "metadata": {
        "id": "wWvtElRVivTw"
      }
    },
    {
      "cell_type": "code",
      "source": [
        "def calcular_masa_molar(masa, volumen, presion, temperatura):\n",
        "    R = 0.0821\n",
        "    masa_molar = (masa * R * temperatura) / (presion * volumen)\n",
        "    return masa_molar\n",
        "\n",
        "# Ejemplo de uso\n",
        "masa = 1.211  # en gramos\n",
        "volumen = 0.677  # en litros\n",
        "presion = 0.987  # en atm\n",
        "temperatura = 296  # en Kelvin (aproximadamente 23°C)\n",
        "\n",
        "masa_molar = calcular_masa_molar(masa, volumen, presion, temperatura)\n",
        "print(f\"La masa molar es: {masa_molar} g/mol\")\n"
      ],
      "metadata": {
        "colab": {
          "base_uri": "https://localhost:8080/"
        },
        "id": "EKLxVKYSi175",
        "outputId": "1bf5871f-e872-4596-81c2-c81518b03cb6"
      },
      "execution_count": 53,
      "outputs": [
        {
          "output_type": "stream",
          "name": "stdout",
          "text": [
            "La masa molar es: 44.04262442775282 g/mol\n"
          ]
        }
      ]
    },
    {
      "cell_type": "markdown",
      "source": [
        "4. Deseas preparar un buffer de pH 6.0 utilizando un ácido débil con\n",
        "𝐾\n",
        "𝑎\n",
        "=\n",
        "1.8\n",
        "×\n",
        "1\n",
        "0\n",
        "−\n",
        "5\n",
        "K\n",
        "a\n",
        "​\n",
        " =1.8×10\n",
        "−5\n",
        "  (ácido acético). El volumen total de la solución será de 100 mL. ¿Cuáles deben ser las concentraciones de ácido (HA) y base conjugada (A⁻) en la solución para alcanzar el pH deseado?"
      ],
      "metadata": {
        "id": "DwZQKcWfZdkC"
      }
    },
    {
      "cell_type": "code",
      "source": [
        "import math\n",
        "def calcular_concentraciones_buffer(ph, ka, volumen_ml):\n",
        "    pKa = -math.log10(ka)\n",
        "    ratio = 10**(ph - pKa)\n",
        "    C_total = 1\n",
        "    A_conc = C_total / (1 + (1 / ratio))  # [A-]\n",
        "    HA_conc = C_total - A_conc              # [HA]\n",
        "\n",
        "    volumen_litros = volumen_ml / 1000\n",
        "\n",
        "    return HA_conc, A_conc\n",
        "\n",
        "# Ejemplo de uso\n",
        "ph = 6.0       # pH deseado\n",
        "ka = 1.8e-5    # Constante de acidez para el ácido acético (CH3COOH)\n",
        "volumen_ml = 100  # Volumen en mL\n",
        "\n",
        "HA_conc, A_conc = calcular_concentraciones_buffer(ph, ka, volumen_ml)\n",
        "print(f'Concentración de ácido (HA): {HA_conc:.4f} M')\n",
        "print(f'Concentración de base conjugada (A-): {A_conc:.4f} M')"
      ],
      "metadata": {
        "colab": {
          "base_uri": "https://localhost:8080/"
        },
        "id": "SxV5r7hkcEwm",
        "outputId": "31a2c08f-29ca-48bc-a7d5-8489b59961a3"
      },
      "execution_count": 52,
      "outputs": [
        {
          "output_type": "stream",
          "name": "stdout",
          "text": [
            "Concentración de ácido (HA): 0.0526 M\n",
            "Concentración de base conjugada (A-): 0.9474 M\n"
          ]
        }
      ]
    },
    {
      "cell_type": "markdown",
      "source": [
        "5- Calcular energía liberada en una reacción química.\n",
        "\n",
        "\n"
      ],
      "metadata": {
        "id": "Iecb20vEkijn"
      }
    },
    {
      "cell_type": "code",
      "source": [
        "def calcular_energia_liberada(moles, delta_H):\n",
        "    # Calcula la energía usando la fórmula ΔE = moles * ΔH\n",
        "    energia = moles * delta_H\n",
        "    return energia\n",
        "\n",
        "# Ejemplo de uso\n",
        "moles = 2  # moles de reactivo\n",
        "delta_H = -285.8  # kJ/mol, ejemplo para formación de agua\n",
        "\n",
        "energia_liberada = calcular_energia_liberada(moles, delta_H)\n",
        "print(f\"La energía liberada es: {energia_liberada} kJ\")\n"
      ],
      "metadata": {
        "colab": {
          "base_uri": "https://localhost:8080/"
        },
        "id": "vQYxjagqkqxo",
        "outputId": "57c382cd-cbca-44eb-a625-38658ef9854b"
      },
      "execution_count": 8,
      "outputs": [
        {
          "output_type": "stream",
          "name": "stdout",
          "text": [
            "La energía liberada es: -571.6 kJ\n"
          ]
        }
      ]
    },
    {
      "cell_type": "markdown",
      "source": [
        "6-"
      ],
      "metadata": {
        "id": "d2ZMvoigtt2b"
      }
    },
    {
      "cell_type": "code",
      "source": [
        "def calcular_rendimiento_porcentual(masa_teorica, masa_exp):\n",
        "\n",
        "    if masa_teorica == 0:\n",
        "        raise ValueError(\"La masa teórica no puede ser cero.\")\n",
        "\n",
        "    rendimiento = (masa_exp / masa_teorica) * 100\n",
        "    return rendimiento\n",
        "masa_teorica = 10.0  # en gramos\n",
        "masa_exp = 8.5       # en gramos\n",
        "\n",
        "rendimiento = calcular_rendimiento_porcentual(masa_teorica, masa_exp)\n",
        "print(f\"El rendimiento porcentual de la reacción es: {rendimiento:.2f}%\")"
      ],
      "metadata": {
        "colab": {
          "base_uri": "https://localhost:8080/"
        },
        "id": "eiQmfBySsjpA",
        "outputId": "81ca42d4-d4a7-4a8f-bbe1-f49e6abb4d7d"
      },
      "execution_count": 44,
      "outputs": [
        {
          "output_type": "stream",
          "name": "stdout",
          "text": [
            "El rendimiento porcentual de la reacción es: 85.00%\n"
          ]
        }
      ]
    },
    {
      "cell_type": "markdown",
      "source": [
        "7-"
      ],
      "metadata": {
        "id": "vO4xcYsWm2aG"
      }
    },
    {
      "cell_type": "code",
      "source": [
        "def calcular_calor_especifico(Q, masa, delta_T):\n",
        "    # Calor específico = Q / (masa * ΔT)\n",
        "    calor_especifico = Q / (masa * delta_T)\n",
        "    return calor_especifico\n",
        "\n",
        "# Ejemplo de uso\n",
        "Q = 80550  # en Joules\n",
        "masa = 6000  # en gramos\n",
        "delta_T = 15  # en grados Celsius\n",
        "\n",
        "calor_especifico = calcular_calor_especifico(Q, masa, delta_T)\n",
        "print(f\"El calor específico del metal es: {calor_especifico} J/g·°C\")\n"
      ],
      "metadata": {
        "colab": {
          "base_uri": "https://localhost:8080/"
        },
        "id": "ZrfVoWhqoSEH",
        "outputId": "e8d8f1ca-22fb-4616-f16d-787e33f7d588"
      },
      "execution_count": 5,
      "outputs": [
        {
          "output_type": "stream",
          "name": "stdout",
          "text": [
            "El calor específico del metal es: 0.895 J/g·°C\n"
          ]
        }
      ]
    },
    {
      "cell_type": "markdown",
      "source": [
        "8.Deseas calcular la presión osmótica de una solución que tiene una concentración de 20g/L de glucosa (C₆H₁₂O₆) a una temperatura de\n",
        "25\n",
        "∘\n",
        " C. La masa molar de la glucosa es 180g/mol."
      ],
      "metadata": {
        "id": "OxWDaozivX1k"
      }
    },
    {
      "cell_type": "code",
      "source": [
        "def calcular_presion_osmotica(concentracion_gL, pm_soluto, temperatura_C):\n",
        "    R = 0.0821\n",
        "    temperatura_K = temperatura_C + 273.15\n",
        "\n",
        "    # Calcular la concentración molar (M) a partir de g/L y PM\n",
        "    molaridad = concentracion_gL / pm_soluto\n",
        "\n",
        "    # Calcular la presión osmótica\n",
        "    presion_osmotica = molaridad * R * temperatura_K\n",
        "    return presion_osmotica\n",
        "\n",
        "# Ejemplo de uso\n",
        "concentracion_gL = 20  # Concentración en g/L\n",
        "pm_soluto = 180        # Masa molar del NaCl en g/mol\n",
        "temperatura_C = 25.0     # Temperatura en °C\n",
        "\n",
        "presion = calcular_presion_osmotica(concentracion_gL, pm_soluto, temperatura_C)\n",
        "print(f'La presión osmótica de la solución es: {presion:.2f} atm')\n"
      ],
      "metadata": {
        "colab": {
          "base_uri": "https://localhost:8080/"
        },
        "id": "ppEiQeK1ZCOC",
        "outputId": "2284c8bf-4e5d-4283-f61e-4b95c4dfdd1b"
      },
      "execution_count": 56,
      "outputs": [
        {
          "output_type": "stream",
          "name": "stdout",
          "text": [
            "La presión osmótica de la solución es: 2.72 atm\n"
          ]
        }
      ]
    },
    {
      "cell_type": "markdown",
      "source": [
        "9. Tienes una sal ligeramente soluble,AgCl (cloruro de plata), cuya solubilidad en agua es 1.3×10\n",
        "−5\n",
        " mol/L. Deseas calcular el producto de solubilidad\n",
        "𝐾ps para AgCl\n"
      ],
      "metadata": {
        "id": "_MwfLzfhaE8C"
      }
    },
    {
      "cell_type": "code",
      "source": [
        "def calcular_ksp(solubilidad):\n",
        "    if solubilidad < 0:\n",
        "        raise ValueError(\"La solubilidad no puede ser negativa.\")\n",
        "    ksp = solubilidad ** 2  # Para la sal AB: Ksp = S^2\n",
        "    return ksp\n",
        "solubilidad_ejemplo = 1.3e-05  # Sal en mol/L\n",
        "ksp_resultado = calcular_ksp(solubilidad_ejemplo)\n",
        "print(f'El producto de solubilidad Ksp es: {ksp_resultado:.5e}')"
      ],
      "metadata": {
        "colab": {
          "base_uri": "https://localhost:8080/"
        },
        "id": "ffX-_e51ajrq",
        "outputId": "87993465-7eed-454b-d643-75fd02e2b671"
      },
      "execution_count": 50,
      "outputs": [
        {
          "output_type": "stream",
          "name": "stdout",
          "text": [
            "El producto de solubilidad Ksp es: 1.69000e-10\n"
          ]
        }
      ]
    },
    {
      "cell_type": "markdown",
      "source": [
        "10. Problema de cinética química, en el cual se calcula la constante de velocidad de una reacción de primer orden y se grafica la concentración del reactivo en función del tiempo."
      ],
      "metadata": {
        "id": "_W636Fu0trJX"
      }
    },
    {
      "cell_type": "code",
      "source": [
        "import numpy as np\n",
        "import pandas as pd\n",
        "import matplotlib.pyplot as plt\n",
        "from scipy.stats import linregress\n",
        "\n",
        "# Datos experimentales\n",
        "tiempo = np.array([0, 10, 20, 30, 40, 50])  # en minutos\n",
        "concentracion = np.array([1.0, 0.82, 0.67, 0.55, 0.45, 0.37])  # Molaridad\n",
        "datos = pd.DataFrame({\n",
        "    'Tiempo (min)': tiempo,\n",
        "    'Concentración (M)': concentracion})\n",
        "\n",
        "datos['ln(Concentración)'] = np.log(datos['Concentración (M)'])\n",
        "\n",
        "slope, intercept, r_value, p_value, std_err = linregress(datos['Tiempo (min)'], datos['ln(Concentración)'])\n",
        "k = -slope\n",
        "\n",
        "print(f\"Constante de velocidad k = {k:.4f} min⁻¹\")\n",
        "print(f\"R² de la regresión = {r_value**2:.4f}\")\n",
        "\n",
        "plt.figure(figsize=(10, 6))\n",
        "plt.plot(datos['Tiempo (min)'], datos['ln(Concentración)'], 'o', label='Datos experimentales')\n",
        "plt.plot(datos['Tiempo (min)'], intercept + slope * datos['Tiempo (min)'], 'r', label=f'Regresión lineal\\n$k = {k:.4f}$ min⁻¹')\n",
        "plt.xlabel('Tiempo (min)')\n",
        "plt.ylabel('ln(Concentración)')\n",
        "plt.title('Cinética de primer orden: ln(Concentración) vs. Tiempo')\n",
        "plt.legend()\n",
        "plt.grid(True)\n",
        "plt.show()"
      ],
      "metadata": {
        "colab": {
          "base_uri": "https://localhost:8080/",
          "height": 601
        },
        "id": "8DphX7DwtsDg",
        "outputId": "10d10aa0-7685-4a14-e71e-029622346050"
      },
      "execution_count": 48,
      "outputs": [
        {
          "output_type": "stream",
          "name": "stdout",
          "text": [
            "Constante de velocidad k = 0.0199 min⁻¹\n",
            "R² de la regresión = 1.0000\n"
          ]
        },
        {
          "output_type": "display_data",
          "data": {
            "text/plain": [
              "<Figure size 1000x600 with 1 Axes>"
            ],
            "image/png": "[encoded data removed]"
          },
          "metadata": {}
        }
      ]
    }
  ]
}