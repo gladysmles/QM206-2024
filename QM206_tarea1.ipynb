{
  "nbformat": 4,
  "nbformat_minor": 0,
  "metadata": {
    "colab": {
      "provenance": [],
      "authorship_tag": "ABX9TyNDb25zc4PuCqiki11R7kMS",
      "include_colab_link": true
    },
    "kernelspec": {
      "name": "python3",
      "display_name": "Python 3"
    },
    "language_info": {
      "name": "python"
    }
  },
  "cells": [
    {
      "cell_type": "markdown",
      "metadata": {
        "id": "view-in-github",
        "colab_type": "text"
      },
      "source": [
        "<a href=\"https://colab.research.google.com/github/gladysmles/QM206-2024/blob/main/QM206_tarea1.ipynb\" target=\"_parent\"><img src=\"https://colab.research.google.com/assets/colab-badge.svg\" alt=\"Open In Colab\"/></a>"
      ]
    },
    {
      "cell_type": "code",
      "execution_count": null,
      "metadata": {
        "id": "Dh874SQ18D_A"
      },
      "outputs": [],
      "source": []
    },
    {
      "cell_type": "markdown",
      "source": [
        "Elementos"
      ],
      "metadata": {
        "id": "2WI-TGkZ8Etv"
      }
    },
    {
      "cell_type": "code",
      "source": [
        "elementos=[]\n",
        "elem={\"simbolo\":\"H\",\"NA\":1,\"masa\":1.008}\n",
        "elementos.append(elem)\n",
        "elem={\"simbolo\":\"He\",\"NA\":2,\"masa\":4.0026}\n",
        "elementos.append(elem)\n",
        "elem ={\"simbolo\":\"Li\",\"NA\":3,\"masa\":6.94}\n",
        "elementos.append(elem)\n",
        "elem ={\"simbolo\":\"Be\",\"NA\":4,\"masa\":9.0122}\n",
        "elementos.append(elem)\n",
        "elem ={\"simbolo\":\"B\",\"NA\":5,\"masa\":10.81}\n",
        "elementos.append(elem)\n",
        "elem ={\"simbolo\":\"C\",\"NA\":6,\"masa\":12.011}\n",
        "elementos.append(elem)\n",
        "elem ={\"simbolo\":\"N\",\"NA\":7,\"masa\":14.007}\n",
        "elementos.append(elem)\n",
        "elem ={\"simbolo\":\"O\",\"NA\":8,\"masa\": 15.999}\n",
        "elementos.append(elem)\n",
        "elem ={\"simbolo\":\"F\",\"NA\":9,\"masa\":18.998}\n",
        "elementos.append(elem)\n",
        "elem ={\"simbolo\":\"Ne\",\"NA\":10,\"masa\":20.180}\n",
        "elementos.append(elem)\n",
        "elem ={\"simbolo\":\"Na\",\"NA\":11,\"masa\":22.990}\n",
        "elementos.append(elem)\n",
        "elem ={\"simbolo\":\"Mg\",\"NA\":12,\"masa\":24.305}\n",
        "elementos.append(elem)\n",
        "elem ={\"simbolo\":\"Al\",\"NA\":13,\"masa\":26.982}\n",
        "elementos.append(elem)\n",
        "elem ={\"simbolo\":\"Si\",\"NA\":14,\"masa\":28.085}\n",
        "elementos.append(elem)\n",
        "elem ={\"simbolo\":\"P\",\"NA\":15,\"masa\":30.974}\n",
        "elementos.append(elem)\n",
        "elem ={\"simbolo\":\"S\",\"NA\":16,\"masa\": 32.06}\n",
        "elementos.append(elem)\n",
        "elem ={\"simbolo\":\"Cl\",\"NA\":17,\"masa\":35.45}\n",
        "elementos.append(elem)\n",
        "elem ={\"simbolo\":\"Ar\",\"NA\":18,\"masa\":39.948}\n",
        "elementos.append(elem)\n",
        "elem ={\"simbolo\":\"K\",\"NA\":19,\"masa\": 39.098}\n",
        "elementos.append(elem)\n",
        "elem ={\"simbolo\":\"Ca\",\"NA\":20,\"masa\": 40.078}\n",
        "elementos.append(elem)\n",
        "print(elementos)"
      ],
      "metadata": {
        "colab": {
          "base_uri": "https://localhost:8080/"
        },
        "id": "-YnOs8a08F5E",
        "outputId": "e7077e91-5865-4834-8ae3-6bbf74f44266"
      },
      "execution_count": null,
      "outputs": [
        {
          "output_type": "stream",
          "name": "stdout",
          "text": [
            "[{'simbolo': 'H', 'NA': 1, 'masa': 1.008}, {'simbolo': 'He', 'NA': 2, 'masa': 4.0026}, {'simbolo': 'Li', 'NA': 3, 'masa': 6.94}, {'simbolo': 'Be', 'NA': 4, 'masa': 9.0122}, {'simbolo': 'B', 'NA': 5, 'masa': 10.81}, {'simbolo': 'C', 'NA': 6, 'masa': 12.011}, {'simbolo': 'N', 'NA': 7, 'masa': 14.007}, {'simbolo': 'O', 'NA': 8, 'masa': 15.999}, {'simbolo': 'F', 'NA': 9, 'masa': 18.998}, {'simbolo': 'Ne', 'NA': 10, 'masa': 20.18}, {'simbolo': 'Na', 'NA': 11, 'masa': 22.99}, {'simbolo': 'Mg', 'NA': 12, 'masa': 24.305}, {'simbolo': 'Al', 'NA': 13, 'masa': 26.982}, {'simbolo': 'Si', 'NA': 14, 'masa': 28.085}, {'simbolo': 'P', 'NA': 15, 'masa': 30.974}, {'simbolo': 'S', 'NA': 16, 'masa': 32.06}, {'simbolo': 'Cl', 'NA': 17, 'masa': 35.45}, {'simbolo': 'Ar', 'NA': 18, 'masa': 39.948}, {'simbolo': 'K', 'NA': 19, 'masa': 39.098}, {'simbolo': 'Ca', 'NA': 20, 'masa': 40.078}]\n"
          ]
        }
      ]
    }
  ]
}